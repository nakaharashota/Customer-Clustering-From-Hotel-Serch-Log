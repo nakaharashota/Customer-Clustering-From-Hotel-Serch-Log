{
 "cells": [
  {
   "cell_type": "markdown",
   "metadata": {},
   "source": [
    "# Customer Clustering #01.SQL"
   ]
  },
  {
   "cell_type": "markdown",
   "metadata": {},
   "source": [
    "SQLで、オリジナルデータの概要を理解し、今回の分析に不要なデータを削ぎ落とす作業（行数を1,000万から14万へ）"
   ]
  },
  {
   "cell_type": "code",
   "execution_count": 1,
   "metadata": {},
   "outputs": [],
   "source": [
    "import pandas as pd\n",
    "import sqlite3\n",
    "import pandas.io.sql as psql"
   ]
  },
  {
   "cell_type": "markdown",
   "metadata": {},
   "source": [
    "## データ読み込み"
   ]
  },
  {
   "cell_type": "code",
   "execution_count": 2,
   "metadata": {
    "collapsed": true
   },
   "outputs": [],
   "source": [
    "train_data = pd.read_csv(\"train.csv\")"
   ]
  },
  {
   "cell_type": "markdown",
   "metadata": {},
   "source": [
    "##### train_dataのレコード数は「9,917,530」"
   ]
  },
  {
   "cell_type": "code",
   "execution_count": 3,
   "metadata": {
    "scrolled": true
   },
   "outputs": [
    {
     "name": "stdout",
     "output_type": "stream",
     "text": [
      "Number of Rows: 9917530   Number of Columns: 54\n"
     ]
    }
   ],
   "source": [
    "print('Number of Rows: %i   Number of Columns: %i' % train_data.shape)"
   ]
  },
  {
   "cell_type": "markdown",
   "metadata": {},
   "source": [
    "## データ理解＆前処理"
   ]
  },
  {
   "cell_type": "code",
   "execution_count": null,
   "metadata": {
    "collapsed": true
   },
   "outputs": [],
   "source": [
    "前処理（SQLで必要なレコードに絞る）"
   ]
  },
  {
   "cell_type": "markdown",
   "metadata": {},
   "source": [
    "### expedia.dbにtrain_dataを格納"
   ]
  },
  {
   "cell_type": "code",
   "execution_count": 4,
   "metadata": {
    "collapsed": true
   },
   "outputs": [],
   "source": [
    "dbn = \"expedia.db\"\n",
    "con = sqlite3.connect(dbn)"
   ]
  },
  {
   "cell_type": "code",
   "execution_count": 5,
   "metadata": {
    "collapsed": true
   },
   "outputs": [],
   "source": [
    "train_data.to_sql(\"data\", con, if_exists=\"replace\")"
   ]
  },
  {
   "cell_type": "markdown",
   "metadata": {},
   "source": [
    "##### (1) srch_id（検索条件の件数）は「399,344」"
   ]
  },
  {
   "cell_type": "code",
   "execution_count": 6,
   "metadata": {
    "collapsed": true
   },
   "outputs": [],
   "source": [
    "your_sql = \"\"\"\n",
    "    SELECT COUNT(Distinct(srch_id)) as srch_id_cnt\n",
    "    FROM data\n",
    "    LIMIT 10\n",
    "\"\"\""
   ]
  },
  {
   "cell_type": "code",
   "execution_count": 7,
   "metadata": {
    "scrolled": true
   },
   "outputs": [
    {
     "data": {
      "text/html": [
       "<div>\n",
       "<style>\n",
       "    .dataframe thead tr:only-child th {\n",
       "        text-align: right;\n",
       "    }\n",
       "\n",
       "    .dataframe thead th {\n",
       "        text-align: left;\n",
       "    }\n",
       "\n",
       "    .dataframe tbody tr th {\n",
       "        vertical-align: top;\n",
       "    }\n",
       "</style>\n",
       "<table border=\"1\" class=\"dataframe\">\n",
       "  <thead>\n",
       "    <tr style=\"text-align: right;\">\n",
       "      <th></th>\n",
       "      <th>srch_id_cnt</th>\n",
       "    </tr>\n",
       "  </thead>\n",
       "  <tbody>\n",
       "    <tr>\n",
       "      <th>0</th>\n",
       "      <td>399344</td>\n",
       "    </tr>\n",
       "  </tbody>\n",
       "</table>\n",
       "</div>"
      ],
      "text/plain": [
       "   srch_id_cnt\n",
       "0       399344"
      ]
     },
     "execution_count": 7,
     "metadata": {},
     "output_type": "execute_result"
    }
   ],
   "source": [
    "psql.read_sql(con=con, sql=your_sql)"
   ]
  },
  {
   "cell_type": "code",
   "execution_count": null,
   "metadata": {
    "collapsed": true
   },
   "outputs": [],
   "source": [
    "(SELECT srch_id, SUM(booking_bool) FROM data GROUP BY srch_id) AS srch_booking_bool"
   ]
  },
  {
   "cell_type": "markdown",
   "metadata": {},
   "source": [
    "##### (2) (1)のうち、購入あり（booking_bool = 1）のsrch_id（検索条件の件数）は「276,593」"
   ]
  },
  {
   "cell_type": "code",
   "execution_count": 191,
   "metadata": {
    "collapsed": true
   },
   "outputs": [],
   "source": [
    "your_sql = \"\"\"\n",
    "    SELECT\n",
    "        b.booking_bool,\n",
    "        COUNT(Distinct(a.srch_id)) as srch_id_cnt,\n",
    "        (1.0*COUNT(Distinct(a.srch_id)))/\n",
    "            (SELECT COUNT(Distinct(srch_id)) as srch_id_cnt FROM data) as rate\n",
    "    FROM data AS a\n",
    "    INNER JOIN (SELECT srch_id, SUM(booking_bool) AS booking_bool FROM data GROUP BY srch_id) AS b \n",
    "        ON a.srch_id = b.srch_id\n",
    "    GROUP BY b.booking_bool\n",
    "    ORDER BY srch_id_cnt DESC\n",
    "    LIMIT 10\n",
    "\"\"\""
   ]
  },
  {
   "cell_type": "code",
   "execution_count": 192,
   "metadata": {
    "scrolled": false
   },
   "outputs": [
    {
     "data": {
      "text/html": [
       "<div>\n",
       "<style>\n",
       "    .dataframe thead tr:only-child th {\n",
       "        text-align: right;\n",
       "    }\n",
       "\n",
       "    .dataframe thead th {\n",
       "        text-align: left;\n",
       "    }\n",
       "\n",
       "    .dataframe tbody tr th {\n",
       "        vertical-align: top;\n",
       "    }\n",
       "</style>\n",
       "<table border=\"1\" class=\"dataframe\">\n",
       "  <thead>\n",
       "    <tr style=\"text-align: right;\">\n",
       "      <th></th>\n",
       "      <th>booking_bool</th>\n",
       "      <th>srch_id_cnt</th>\n",
       "      <th>rate</th>\n",
       "    </tr>\n",
       "  </thead>\n",
       "  <tbody>\n",
       "    <tr>\n",
       "      <th>0</th>\n",
       "      <td>1</td>\n",
       "      <td>276593</td>\n",
       "      <td>0.692618</td>\n",
       "    </tr>\n",
       "    <tr>\n",
       "      <th>1</th>\n",
       "      <td>0</td>\n",
       "      <td>122751</td>\n",
       "      <td>0.307382</td>\n",
       "    </tr>\n",
       "  </tbody>\n",
       "</table>\n",
       "</div>"
      ],
      "text/plain": [
       "   booking_bool  srch_id_cnt      rate\n",
       "0             1       276593  0.692618\n",
       "1             0       122751  0.307382"
      ]
     },
     "execution_count": 192,
     "metadata": {},
     "output_type": "execute_result"
    }
   ],
   "source": [
    "psql.read_sql(con=con, sql=your_sql)"
   ]
  },
  {
   "cell_type": "code",
   "execution_count": null,
   "metadata": {
    "collapsed": true
   },
   "outputs": [],
   "source": []
  },
  {
   "cell_type": "markdown",
   "metadata": {},
   "source": [
    "##### (3) (2)のうち、Expedia.com（site = 5）のsrch_idの数（検索条件の件数）は「173,575」"
   ]
  },
  {
   "cell_type": "code",
   "execution_count": 65,
   "metadata": {
    "collapsed": true
   },
   "outputs": [],
   "source": [
    "your_sql = \"\"\"\n",
    "    SELECT\n",
    "        CASE \n",
    "            WHEN site_id = 5 THEN \"Expedia.com\"\n",
    "            ELSE \"Others\"\n",
    "        END AS site_name,\n",
    "        COUNT(Distinct(srch_id)) as srch_id_cnt,\n",
    "        (1.0*COUNT(Distinct(srch_id))/\n",
    "            (SELECT COUNT(Distinct(srch_id)) as srch_id_cnt FROM data WHERE booking_bool = 1)) as rate\n",
    "    FROM data\n",
    "    WHERE booking_bool = 1\n",
    "    GROUP BY\n",
    "        CASE \n",
    "            WHEN site_id = 5 THEN \"Expedia.com\"\n",
    "            ELSE \"Other\"\n",
    "        END\n",
    "    ORDER BY srch_id_cnt DESC\n",
    "    LIMIT 10\n",
    "\"\"\""
   ]
  },
  {
   "cell_type": "code",
   "execution_count": 66,
   "metadata": {
    "scrolled": false
   },
   "outputs": [
    {
     "data": {
      "text/html": [
       "<div>\n",
       "<style>\n",
       "    .dataframe thead tr:only-child th {\n",
       "        text-align: right;\n",
       "    }\n",
       "\n",
       "    .dataframe thead th {\n",
       "        text-align: left;\n",
       "    }\n",
       "\n",
       "    .dataframe tbody tr th {\n",
       "        vertical-align: top;\n",
       "    }\n",
       "</style>\n",
       "<table border=\"1\" class=\"dataframe\">\n",
       "  <thead>\n",
       "    <tr style=\"text-align: right;\">\n",
       "      <th></th>\n",
       "      <th>site_name</th>\n",
       "      <th>srch_id_cnt</th>\n",
       "      <th>rate</th>\n",
       "    </tr>\n",
       "  </thead>\n",
       "  <tbody>\n",
       "    <tr>\n",
       "      <th>0</th>\n",
       "      <td>Expedia.com</td>\n",
       "      <td>173575</td>\n",
       "      <td>0.627547</td>\n",
       "    </tr>\n",
       "    <tr>\n",
       "      <th>1</th>\n",
       "      <td>Others</td>\n",
       "      <td>103018</td>\n",
       "      <td>0.372453</td>\n",
       "    </tr>\n",
       "  </tbody>\n",
       "</table>\n",
       "</div>"
      ],
      "text/plain": [
       "     site_name  srch_id_cnt      rate\n",
       "0  Expedia.com       173575  0.627547\n",
       "1       Others       103018  0.372453"
      ]
     },
     "execution_count": 66,
     "metadata": {},
     "output_type": "execute_result"
    }
   ],
   "source": [
    "psql.read_sql(con=con, sql=your_sql)"
   ]
  },
  {
   "cell_type": "markdown",
   "metadata": {},
   "source": [
    "##### (4) (3)のうち、居住地がUSA（visitor_location_country_id = 219）のsrch_idの数（検索条件の件数）は「158,464」"
   ]
  },
  {
   "cell_type": "code",
   "execution_count": 193,
   "metadata": {
    "collapsed": true
   },
   "outputs": [],
   "source": [
    "your_sql = \"\"\"\n",
    "    SELECT\n",
    "        CASE \n",
    "            WHEN visitor_location_country_id = 219 THEN \"USA\"\n",
    "            ELSE \"Other\"\n",
    "        END AS visitor_location_country_name,\n",
    "        COUNT(Distinct(srch_id)) as srch_id_cnt,\n",
    "        (1.0*COUNT(Distinct(srch_id))/\n",
    "            (SELECT COUNT(Distinct(srch_id)) as srch_id_cnt \n",
    "            FROM data WHERE booking_bool = 1 AND site_id = 5)) as rate\n",
    "    FROM data\n",
    "    WHERE booking_bool = 1\n",
    "        AND site_id = 5\n",
    "    GROUP BY\n",
    "        CASE \n",
    "            WHEN visitor_location_country_id = 219 THEN \"USA\"\n",
    "            ELSE \"Other\"\n",
    "        END\n",
    "    ORDER BY srch_id_cnt DESC\n",
    "    LIMIT 10\n",
    "\"\"\""
   ]
  },
  {
   "cell_type": "code",
   "execution_count": 194,
   "metadata": {
    "scrolled": true
   },
   "outputs": [
    {
     "data": {
      "text/html": [
       "<div>\n",
       "<style>\n",
       "    .dataframe thead tr:only-child th {\n",
       "        text-align: right;\n",
       "    }\n",
       "\n",
       "    .dataframe thead th {\n",
       "        text-align: left;\n",
       "    }\n",
       "\n",
       "    .dataframe tbody tr th {\n",
       "        vertical-align: top;\n",
       "    }\n",
       "</style>\n",
       "<table border=\"1\" class=\"dataframe\">\n",
       "  <thead>\n",
       "    <tr style=\"text-align: right;\">\n",
       "      <th></th>\n",
       "      <th>visitor_location_country_name</th>\n",
       "      <th>srch_id_cnt</th>\n",
       "      <th>rate</th>\n",
       "    </tr>\n",
       "  </thead>\n",
       "  <tbody>\n",
       "    <tr>\n",
       "      <th>0</th>\n",
       "      <td>USA</td>\n",
       "      <td>158464</td>\n",
       "      <td>0.912943</td>\n",
       "    </tr>\n",
       "    <tr>\n",
       "      <th>1</th>\n",
       "      <td>Other</td>\n",
       "      <td>15111</td>\n",
       "      <td>0.087057</td>\n",
       "    </tr>\n",
       "  </tbody>\n",
       "</table>\n",
       "</div>"
      ],
      "text/plain": [
       "  visitor_location_country_name  srch_id_cnt      rate\n",
       "0                           USA       158464  0.912943\n",
       "1                         Other        15111  0.087057"
      ]
     },
     "execution_count": 194,
     "metadata": {},
     "output_type": "execute_result"
    }
   ],
   "source": [
    "psql.read_sql(con=con, sql=your_sql)"
   ]
  },
  {
   "cell_type": "markdown",
   "metadata": {},
   "source": [
    "##### (5) (4)のうち、目的地がUSA（prop_country_id =219）のsrch_idの数（検索条件の件数）は「139,302」"
   ]
  },
  {
   "cell_type": "code",
   "execution_count": 220,
   "metadata": {
    "collapsed": true
   },
   "outputs": [],
   "source": [
    "your_sql = \"\"\"\n",
    "    SELECT\n",
    "        CASE \n",
    "            WHEN prop_country_id = 219 THEN \"USA\"\n",
    "            ELSE \"Other\"\n",
    "        END AS prop_country_name,\n",
    "        COUNT(Distinct(srch_id)) as srch_id_cnt,\n",
    "        (1.0*COUNT(Distinct(srch_id))/\n",
    "            (SELECT COUNT(Distinct(srch_id)) as srch_id_cnt \n",
    "            FROM data WHERE booking_bool = 1 \n",
    "            AND site_id = 5 AND visitor_location_country_id = 219)) as rate\n",
    "    FROM data\n",
    "    WHERE booking_bool = 1\n",
    "        AND site_id = 5\n",
    "        AND visitor_location_country_id = 219\n",
    "    GROUP BY\n",
    "        CASE \n",
    "            WHEN prop_country_id = 219 THEN \"USA\"\n",
    "            ELSE \"Other\"\n",
    "        END\n",
    "    ORDER BY srch_id_cnt DESC\n",
    "    LIMIT 10\n",
    "\"\"\""
   ]
  },
  {
   "cell_type": "code",
   "execution_count": 221,
   "metadata": {
    "scrolled": false
   },
   "outputs": [
    {
     "data": {
      "text/html": [
       "<div>\n",
       "<style>\n",
       "    .dataframe thead tr:only-child th {\n",
       "        text-align: right;\n",
       "    }\n",
       "\n",
       "    .dataframe thead th {\n",
       "        text-align: left;\n",
       "    }\n",
       "\n",
       "    .dataframe tbody tr th {\n",
       "        vertical-align: top;\n",
       "    }\n",
       "</style>\n",
       "<table border=\"1\" class=\"dataframe\">\n",
       "  <thead>\n",
       "    <tr style=\"text-align: right;\">\n",
       "      <th></th>\n",
       "      <th>prop_country_name</th>\n",
       "      <th>srch_id_cnt</th>\n",
       "      <th>rate</th>\n",
       "    </tr>\n",
       "  </thead>\n",
       "  <tbody>\n",
       "    <tr>\n",
       "      <th>0</th>\n",
       "      <td>USA</td>\n",
       "      <td>139302</td>\n",
       "      <td>0.879077</td>\n",
       "    </tr>\n",
       "    <tr>\n",
       "      <th>1</th>\n",
       "      <td>Other</td>\n",
       "      <td>19162</td>\n",
       "      <td>0.120923</td>\n",
       "    </tr>\n",
       "  </tbody>\n",
       "</table>\n",
       "</div>"
      ],
      "text/plain": [
       "  prop_country_name  srch_id_cnt      rate\n",
       "0               USA       139302  0.879077\n",
       "1             Other        19162  0.120923"
      ]
     },
     "execution_count": 221,
     "metadata": {},
     "output_type": "execute_result"
    }
   ],
   "source": [
    "psql.read_sql(con=con, sql=your_sql)"
   ]
  },
  {
   "cell_type": "markdown",
   "metadata": {},
   "source": [
    "### 分析対象データ"
   ]
  },
  {
   "cell_type": "markdown",
   "metadata": {},
   "source": [
    "##### 今回は「Expedia.comでアメリカ合衆国の国内旅行の購入ログ」を分析対象とする（詳細条件を以下の通り）"
   ]
  },
  {
   "cell_type": "markdown",
   "metadata": {},
   "source": [
    "・購入有無：購入あり（booking_bool = 1）<br>\n",
    "・利用サイト：Expedia.com（site_id = 5）<br>\n",
    "・居住地：USA（visitor_location_country_id = 219）<br>\n",
    "・目的地：USA（prop_country_id = 219）<br>"
   ]
  },
  {
   "cell_type": "markdown",
   "metadata": {},
   "source": [
    "##### 分析対象データをexpedia.dbから抽出しpandasに格納"
   ]
  },
  {
   "cell_type": "code",
   "execution_count": 225,
   "metadata": {
    "collapsed": true
   },
   "outputs": [],
   "source": [
    "your_sql = \"\"\"\n",
    "    SELECT *\n",
    "    FROM data\n",
    "    WHERE booking_bool = 1\n",
    "        AND site_id = 5\n",
    "        AND visitor_location_country_id = 219\n",
    "        AND prop_country_id = 219\n",
    "\"\"\""
   ]
  },
  {
   "cell_type": "code",
   "execution_count": 226,
   "metadata": {
    "collapsed": true
   },
   "outputs": [],
   "source": [
    "book_data = psql.read_sql(con=con, sql=your_sql)"
   ]
  },
  {
   "cell_type": "code",
   "execution_count": 227,
   "metadata": {
    "scrolled": true
   },
   "outputs": [
    {
     "data": {
      "text/html": [
       "<div>\n",
       "<style>\n",
       "    .dataframe thead tr:only-child th {\n",
       "        text-align: right;\n",
       "    }\n",
       "\n",
       "    .dataframe thead th {\n",
       "        text-align: left;\n",
       "    }\n",
       "\n",
       "    .dataframe tbody tr th {\n",
       "        vertical-align: top;\n",
       "    }\n",
       "</style>\n",
       "<table border=\"1\" class=\"dataframe\">\n",
       "  <thead>\n",
       "    <tr style=\"text-align: right;\">\n",
       "      <th></th>\n",
       "      <th>index</th>\n",
       "      <th>srch_id</th>\n",
       "      <th>date_time</th>\n",
       "      <th>site_id</th>\n",
       "      <th>visitor_location_country_id</th>\n",
       "      <th>visitor_hist_starrating</th>\n",
       "      <th>visitor_hist_adr_usd</th>\n",
       "      <th>prop_country_id</th>\n",
       "      <th>prop_id</th>\n",
       "      <th>prop_starrating</th>\n",
       "      <th>...</th>\n",
       "      <th>comp6_rate_percent_diff</th>\n",
       "      <th>comp7_rate</th>\n",
       "      <th>comp7_inv</th>\n",
       "      <th>comp7_rate_percent_diff</th>\n",
       "      <th>comp8_rate</th>\n",
       "      <th>comp8_inv</th>\n",
       "      <th>comp8_rate_percent_diff</th>\n",
       "      <th>click_bool</th>\n",
       "      <th>gross_bookings_usd</th>\n",
       "      <th>booking_bool</th>\n",
       "    </tr>\n",
       "  </thead>\n",
       "  <tbody>\n",
       "    <tr>\n",
       "      <th>0</th>\n",
       "      <td>68</td>\n",
       "      <td>8</td>\n",
       "      <td>2013-03-20 17:50:44</td>\n",
       "      <td>5</td>\n",
       "      <td>219</td>\n",
       "      <td>NaN</td>\n",
       "      <td>NaN</td>\n",
       "      <td>219</td>\n",
       "      <td>27669</td>\n",
       "      <td>3</td>\n",
       "      <td>...</td>\n",
       "      <td>None</td>\n",
       "      <td>NaN</td>\n",
       "      <td>NaN</td>\n",
       "      <td>NaN</td>\n",
       "      <td>0.0</td>\n",
       "      <td>0.0</td>\n",
       "      <td>NaN</td>\n",
       "      <td>1</td>\n",
       "      <td>96.41</td>\n",
       "      <td>1</td>\n",
       "    </tr>\n",
       "    <tr>\n",
       "      <th>1</th>\n",
       "      <td>211</td>\n",
       "      <td>25</td>\n",
       "      <td>2012-12-11 13:03:42</td>\n",
       "      <td>5</td>\n",
       "      <td>219</td>\n",
       "      <td>NaN</td>\n",
       "      <td>NaN</td>\n",
       "      <td>219</td>\n",
       "      <td>23228</td>\n",
       "      <td>4</td>\n",
       "      <td>...</td>\n",
       "      <td>None</td>\n",
       "      <td>NaN</td>\n",
       "      <td>NaN</td>\n",
       "      <td>NaN</td>\n",
       "      <td>0.0</td>\n",
       "      <td>0.0</td>\n",
       "      <td>NaN</td>\n",
       "      <td>1</td>\n",
       "      <td>47.10</td>\n",
       "      <td>1</td>\n",
       "    </tr>\n",
       "    <tr>\n",
       "      <th>2</th>\n",
       "      <td>243</td>\n",
       "      <td>28</td>\n",
       "      <td>2012-11-26 10:13:17</td>\n",
       "      <td>5</td>\n",
       "      <td>219</td>\n",
       "      <td>NaN</td>\n",
       "      <td>NaN</td>\n",
       "      <td>219</td>\n",
       "      <td>13996</td>\n",
       "      <td>4</td>\n",
       "      <td>...</td>\n",
       "      <td>None</td>\n",
       "      <td>NaN</td>\n",
       "      <td>NaN</td>\n",
       "      <td>NaN</td>\n",
       "      <td>-1.0</td>\n",
       "      <td>0.0</td>\n",
       "      <td>9.0</td>\n",
       "      <td>1</td>\n",
       "      <td>286.32</td>\n",
       "      <td>1</td>\n",
       "    </tr>\n",
       "    <tr>\n",
       "      <th>3</th>\n",
       "      <td>387</td>\n",
       "      <td>39</td>\n",
       "      <td>2013-04-06 18:08:58</td>\n",
       "      <td>5</td>\n",
       "      <td>219</td>\n",
       "      <td>NaN</td>\n",
       "      <td>NaN</td>\n",
       "      <td>219</td>\n",
       "      <td>109855</td>\n",
       "      <td>2</td>\n",
       "      <td>...</td>\n",
       "      <td>None</td>\n",
       "      <td>NaN</td>\n",
       "      <td>NaN</td>\n",
       "      <td>NaN</td>\n",
       "      <td>0.0</td>\n",
       "      <td>0.0</td>\n",
       "      <td>NaN</td>\n",
       "      <td>1</td>\n",
       "      <td>60.77</td>\n",
       "      <td>1</td>\n",
       "    </tr>\n",
       "    <tr>\n",
       "      <th>4</th>\n",
       "      <td>653</td>\n",
       "      <td>53</td>\n",
       "      <td>2013-02-13 07:00:24</td>\n",
       "      <td>5</td>\n",
       "      <td>219</td>\n",
       "      <td>NaN</td>\n",
       "      <td>NaN</td>\n",
       "      <td>219</td>\n",
       "      <td>101178</td>\n",
       "      <td>4</td>\n",
       "      <td>...</td>\n",
       "      <td>None</td>\n",
       "      <td>NaN</td>\n",
       "      <td>NaN</td>\n",
       "      <td>NaN</td>\n",
       "      <td>-1.0</td>\n",
       "      <td>0.0</td>\n",
       "      <td>17.0</td>\n",
       "      <td>1</td>\n",
       "      <td>347.65</td>\n",
       "      <td>1</td>\n",
       "    </tr>\n",
       "  </tbody>\n",
       "</table>\n",
       "<p>5 rows × 55 columns</p>\n",
       "</div>"
      ],
      "text/plain": [
       "   index  srch_id            date_time  site_id  visitor_location_country_id  \\\n",
       "0     68        8  2013-03-20 17:50:44        5                          219   \n",
       "1    211       25  2012-12-11 13:03:42        5                          219   \n",
       "2    243       28  2012-11-26 10:13:17        5                          219   \n",
       "3    387       39  2013-04-06 18:08:58        5                          219   \n",
       "4    653       53  2013-02-13 07:00:24        5                          219   \n",
       "\n",
       "   visitor_hist_starrating  visitor_hist_adr_usd  prop_country_id  prop_id  \\\n",
       "0                      NaN                   NaN              219    27669   \n",
       "1                      NaN                   NaN              219    23228   \n",
       "2                      NaN                   NaN              219    13996   \n",
       "3                      NaN                   NaN              219   109855   \n",
       "4                      NaN                   NaN              219   101178   \n",
       "\n",
       "   prop_starrating      ...       comp6_rate_percent_diff  comp7_rate  \\\n",
       "0                3      ...                          None         NaN   \n",
       "1                4      ...                          None         NaN   \n",
       "2                4      ...                          None         NaN   \n",
       "3                2      ...                          None         NaN   \n",
       "4                4      ...                          None         NaN   \n",
       "\n",
       "   comp7_inv  comp7_rate_percent_diff  comp8_rate  comp8_inv  \\\n",
       "0        NaN                      NaN         0.0        0.0   \n",
       "1        NaN                      NaN         0.0        0.0   \n",
       "2        NaN                      NaN        -1.0        0.0   \n",
       "3        NaN                      NaN         0.0        0.0   \n",
       "4        NaN                      NaN        -1.0        0.0   \n",
       "\n",
       "   comp8_rate_percent_diff  click_bool  gross_bookings_usd  booking_bool  \n",
       "0                      NaN           1               96.41             1  \n",
       "1                      NaN           1               47.10             1  \n",
       "2                      9.0           1              286.32             1  \n",
       "3                      NaN           1               60.77             1  \n",
       "4                     17.0           1              347.65             1  \n",
       "\n",
       "[5 rows x 55 columns]"
      ]
     },
     "execution_count": 227,
     "metadata": {},
     "output_type": "execute_result"
    }
   ],
   "source": [
    "book_data.head()"
   ]
  },
  {
   "cell_type": "code",
   "execution_count": 228,
   "metadata": {
    "scrolled": true
   },
   "outputs": [
    {
     "name": "stdout",
     "output_type": "stream",
     "text": [
      "Number of Rows: 139302   Number of Columns: 55\n"
     ]
    }
   ],
   "source": [
    "print('Number of Rows: %i   Number of Columns: %i' % book_data.shape)"
   ]
  },
  {
   "cell_type": "code",
   "execution_count": null,
   "metadata": {
    "collapsed": true
   },
   "outputs": [],
   "source": []
  }
 ],
 "metadata": {
  "kernelspec": {
   "display_name": "Python 3",
   "language": "python",
   "name": "python3"
  },
  "language_info": {
   "codemirror_mode": {
    "name": "ipython",
    "version": 3
   },
   "file_extension": ".py",
   "mimetype": "text/x-python",
   "name": "python",
   "nbconvert_exporter": "python",
   "pygments_lexer": "ipython3",
   "version": "3.6.3"
  }
 },
 "nbformat": 4,
 "nbformat_minor": 1
}
